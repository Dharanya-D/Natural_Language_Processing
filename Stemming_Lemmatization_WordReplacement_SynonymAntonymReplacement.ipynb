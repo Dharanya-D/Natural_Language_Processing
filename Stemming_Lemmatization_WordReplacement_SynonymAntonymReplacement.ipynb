{
 "cells": [
  {
   "cell_type": "code",
   "execution_count": 1,
   "id": "43c8d266",
   "metadata": {},
   "outputs": [],
   "source": [
    "from nltk.stem import PorterStemmer"
   ]
  },
  {
   "cell_type": "code",
   "execution_count": 2,
   "id": "d7c9deab",
   "metadata": {},
   "outputs": [],
   "source": [
    "word_stemmer = PorterStemmer()"
   ]
  },
  {
   "cell_type": "code",
   "execution_count": 3,
   "id": "2cb94e43",
   "metadata": {},
   "outputs": [
    {
     "data": {
      "text/plain": [
       "'write'"
      ]
     },
     "execution_count": 3,
     "metadata": {},
     "output_type": "execute_result"
    }
   ],
   "source": [
    "word_stemmer.stem('writing')"
   ]
  },
  {
   "cell_type": "code",
   "execution_count": 4,
   "id": "3ef74023",
   "metadata": {},
   "outputs": [
    {
     "data": {
      "text/plain": [
       "'eat'"
      ]
     },
     "execution_count": 4,
     "metadata": {},
     "output_type": "execute_result"
    }
   ],
   "source": [
    "word_stemmer.stem('eating')"
   ]
  },
  {
   "cell_type": "code",
   "execution_count": 5,
   "id": "291c3e66",
   "metadata": {},
   "outputs": [],
   "source": [
    "from nltk.stem import LancasterStemmer"
   ]
  },
  {
   "cell_type": "code",
   "execution_count": 6,
   "id": "199bea36",
   "metadata": {},
   "outputs": [],
   "source": [
    "Lanc_stemmer = LancasterStemmer()"
   ]
  },
  {
   "cell_type": "code",
   "execution_count": 7,
   "id": "ddb6ec3e",
   "metadata": {},
   "outputs": [
    {
     "data": {
      "text/plain": [
       "'eat'"
      ]
     },
     "execution_count": 7,
     "metadata": {},
     "output_type": "execute_result"
    }
   ],
   "source": [
    "Lanc_stemmer.stem('eats')"
   ]
  },
  {
   "cell_type": "code",
   "execution_count": 8,
   "id": "02023764",
   "metadata": {},
   "outputs": [],
   "source": [
    "from nltk.stem import RegexpStemmer"
   ]
  },
  {
   "cell_type": "code",
   "execution_count": 9,
   "id": "fe69374a",
   "metadata": {},
   "outputs": [],
   "source": [
    "Reg_stemmer = RegexpStemmer('ing')"
   ]
  },
  {
   "cell_type": "code",
   "execution_count": 10,
   "id": "30792d6c",
   "metadata": {},
   "outputs": [
    {
     "data": {
      "text/plain": [
       "'eat'"
      ]
     },
     "execution_count": 10,
     "metadata": {},
     "output_type": "execute_result"
    }
   ],
   "source": [
    "Reg_stemmer.stem('eating')"
   ]
  },
  {
   "cell_type": "code",
   "execution_count": 11,
   "id": "e67ecbb9",
   "metadata": {},
   "outputs": [],
   "source": [
    "from nltk.stem import SnowballStemmer"
   ]
  },
  {
   "cell_type": "code",
   "execution_count": 12,
   "id": "dcceded6",
   "metadata": {},
   "outputs": [
    {
     "data": {
      "text/plain": [
       "('arabic',\n",
       " 'danish',\n",
       " 'dutch',\n",
       " 'english',\n",
       " 'finnish',\n",
       " 'french',\n",
       " 'german',\n",
       " 'hungarian',\n",
       " 'italian',\n",
       " 'norwegian',\n",
       " 'porter',\n",
       " 'portuguese',\n",
       " 'romanian',\n",
       " 'russian',\n",
       " 'spanish',\n",
       " 'swedish')"
      ]
     },
     "execution_count": 12,
     "metadata": {},
     "output_type": "execute_result"
    }
   ],
   "source": [
    "SnowballStemmer.languages"
   ]
  },
  {
   "cell_type": "code",
   "execution_count": 13,
   "id": "7d83932a",
   "metadata": {},
   "outputs": [],
   "source": [
    "French_stemmer = SnowballStemmer('french')"
   ]
  },
  {
   "cell_type": "code",
   "execution_count": 14,
   "id": "6228624b",
   "metadata": {},
   "outputs": [
    {
     "data": {
      "text/plain": [
       "'bonjour'"
      ]
     },
     "execution_count": 14,
     "metadata": {},
     "output_type": "execute_result"
    }
   ],
   "source": [
    "French_stemmer.stem('Bonjoura')"
   ]
  },
  {
   "cell_type": "code",
   "execution_count": 15,
   "id": "b1d741c1",
   "metadata": {},
   "outputs": [],
   "source": [
    "from nltk.stem import WordNetLemmatizer"
   ]
  },
  {
   "cell_type": "code",
   "execution_count": 16,
   "id": "a5c94bce",
   "metadata": {},
   "outputs": [],
   "source": [
    "lemmatizer = WordNetLemmatizer()"
   ]
  },
  {
   "cell_type": "code",
   "execution_count": 17,
   "id": "acacdf7b",
   "metadata": {},
   "outputs": [
    {
     "data": {
      "text/plain": [
       "'eating'"
      ]
     },
     "execution_count": 17,
     "metadata": {},
     "output_type": "execute_result"
    }
   ],
   "source": [
    "lemmatizer.lemmatize('eating')"
   ]
  },
  {
   "cell_type": "code",
   "execution_count": 18,
   "id": "6a7a6581",
   "metadata": {},
   "outputs": [
    {
     "data": {
      "text/plain": [
       "'book'"
      ]
     },
     "execution_count": 18,
     "metadata": {},
     "output_type": "execute_result"
    }
   ],
   "source": [
    "lemmatizer.lemmatize('books')"
   ]
  },
  {
   "cell_type": "code",
   "execution_count": 19,
   "id": "803f1477",
   "metadata": {},
   "outputs": [
    {
     "data": {
      "text/plain": [
       "'bookes'"
      ]
     },
     "execution_count": 19,
     "metadata": {},
     "output_type": "execute_result"
    }
   ],
   "source": [
    "lemmatizer.lemmatize('bookes')"
   ]
  },
  {
   "cell_type": "code",
   "execution_count": 20,
   "id": "a3947f11",
   "metadata": {},
   "outputs": [
    {
     "data": {
      "text/plain": [
       "'bookie'"
      ]
     },
     "execution_count": 20,
     "metadata": {},
     "output_type": "execute_result"
    }
   ],
   "source": [
    "lemmatizer.lemmatize('bookies')"
   ]
  },
  {
   "cell_type": "code",
   "execution_count": 21,
   "id": "070e41b5",
   "metadata": {},
   "outputs": [],
   "source": [
    "import re"
   ]
  },
  {
   "cell_type": "code",
   "execution_count": 22,
   "id": "bae8124a",
   "metadata": {},
   "outputs": [],
   "source": [
    "from nltk.corpus import wordnet"
   ]
  },
  {
   "cell_type": "code",
   "execution_count": 23,
   "id": "806f54d0",
   "metadata": {},
   "outputs": [],
   "source": [
    "R_patterns = [\n",
    "    (r'won\\'t', 'will not'),\n",
    "    (r'can\\'t', 'cannot'),\n",
    "    (r'i\\'m', 'i am'),\n",
    "    (r'(\\w+)\\'ll', 'g<1> will'),\n",
    "    (r'(\\w+)n\\'t', 'g<1> not'),\n",
    "    (r'(\\w+)\\'ve', 'g<1> have'),\n",
    "    (r'(\\w+)\\'s', 'g<1> is'),\n",
    "    (r'(\\w+)\\'re', 'g<1> are'),\n",
    "]"
   ]
  },
  {
   "cell_type": "code",
   "execution_count": 24,
   "id": "e001b5b0",
   "metadata": {},
   "outputs": [],
   "source": [
    "class REReplacer(object):\n",
    "    def __init__ (self, pattern = R_patterns):\n",
    "        self.pattern = [(re.compile(regex), repl) for (regex, repl) in pattern]\n",
    "    \n",
    "    def replace(self, text):\n",
    "        s = text\n",
    "        for (pattern, repl) in self.pattern:\n",
    "            s = re.sub(pattern, repl, s)\n",
    "        return s"
   ]
  },
  {
   "cell_type": "code",
   "execution_count": 25,
   "id": "6f8b95b7",
   "metadata": {},
   "outputs": [
    {
     "data": {
      "text/plain": [
       "'I will not do it'"
      ]
     },
     "execution_count": 25,
     "metadata": {},
     "output_type": "execute_result"
    }
   ],
   "source": [
    "rep_word = REReplacer()\n",
    "rep_word.replace(\"I won't do it\")"
   ]
  },
  {
   "cell_type": "code",
   "execution_count": 26,
   "id": "2dce752d",
   "metadata": {},
   "outputs": [
    {
     "data": {
      "text/plain": [
       "['I', 'wo', \"n't\", 'be', 'able', 'to', 'do', 'this', 'now']"
      ]
     },
     "execution_count": 26,
     "metadata": {},
     "output_type": "execute_result"
    }
   ],
   "source": [
    "from nltk.tokenize import word_tokenize\n",
    "rep_word = REReplacer()\n",
    "word_tokenize(\"I won't be able to do this now\")"
   ]
  },
  {
   "cell_type": "code",
   "execution_count": 27,
   "id": "9e666305",
   "metadata": {},
   "outputs": [
    {
     "data": {
      "text/plain": [
       "['I', 'will', 'not', 'be', 'able', 'to', 'do', 'this', 'now']"
      ]
     },
     "execution_count": 27,
     "metadata": {},
     "output_type": "execute_result"
    }
   ],
   "source": [
    "word_tokenize(rep_word.replace(\"I won't be able to do this now\"))"
   ]
  },
  {
   "cell_type": "code",
   "execution_count": 28,
   "id": "2f504a38",
   "metadata": {},
   "outputs": [],
   "source": [
    "class Rep_word_removal(object):\n",
    "    def __init__(self):\n",
    "        self.repeat_regexp = re.compile(r'(\\w*)(\\w)\\2(\\w*)')\n",
    "        self.repl = r'\\1\\2\\3'\n",
    "    \n",
    "    def replace(self, word):\n",
    "        if wordnet.synsets(word):\n",
    "            return word\n",
    "        repl_word = self.repeat_regexp.sub(self.repl, word)\n",
    "        if repl_word != word:\n",
    "            return self.replace(repl_word)\n",
    "        else:\n",
    "            return repl_word"
   ]
  },
  {
   "cell_type": "code",
   "execution_count": 29,
   "id": "65fef914",
   "metadata": {},
   "outputs": [
    {
     "data": {
      "text/plain": [
       "'Hi'"
      ]
     },
     "execution_count": 29,
     "metadata": {},
     "output_type": "execute_result"
    }
   ],
   "source": [
    "rep_word = Rep_word_removal()\n",
    "rep_word.replace(\"Hiiiiiiiiiiiiiiiiii\")"
   ]
  },
  {
   "cell_type": "code",
   "execution_count": 30,
   "id": "dfc74c11",
   "metadata": {},
   "outputs": [
    {
     "data": {
      "text/plain": [
       "'Hello'"
      ]
     },
     "execution_count": 30,
     "metadata": {},
     "output_type": "execute_result"
    }
   ],
   "source": [
    "rep_word.replace('Helloooooooooooooo')"
   ]
  },
  {
   "cell_type": "code",
   "execution_count": 31,
   "id": "6a4c7d21",
   "metadata": {},
   "outputs": [],
   "source": [
    "class word_syn_replacer(object):\n",
    "    def __init__(self, word_map):\n",
    "        self.word_map = word_map\n",
    "    \n",
    "    def replace(self, word):\n",
    "        return self.word_map.get(word, word)"
   ]
  },
  {
   "cell_type": "code",
   "execution_count": 32,
   "id": "4916f71e",
   "metadata": {},
   "outputs": [
    {
     "data": {
      "text/plain": [
       "'birthday'"
      ]
     },
     "execution_count": 32,
     "metadata": {},
     "output_type": "execute_result"
    }
   ],
   "source": [
    "rep_syn = word_syn_replacer({'bday' : 'birthday'})\n",
    "rep_syn.replace('bday')"
   ]
  },
  {
   "cell_type": "code",
   "execution_count": 44,
   "id": "0e0d10d8",
   "metadata": {},
   "outputs": [],
   "source": [
    "import csv"
   ]
  },
  {
   "cell_type": "code",
   "execution_count": 45,
   "id": "6eb56cc3",
   "metadata": {},
   "outputs": [],
   "source": [
    "class CSVword_syn_replacer(word_syn_replacer):\n",
    "    def __init__(self, fname):\n",
    "        word_map = {}\n",
    "        for line in csv.reader(open(fname)):\n",
    "            word, syn = line\n",
    "            word_map[word] = syn\n",
    "        super(CSVword_syn_replacer, self).__init__(word_map)\n",
    "            "
   ]
  },
  {
   "cell_type": "code",
   "execution_count": 46,
   "id": "9cfcc100",
   "metadata": {},
   "outputs": [
    {
     "data": {
      "text/plain": [
       "'Birthday'"
      ]
     },
     "execution_count": 46,
     "metadata": {},
     "output_type": "execute_result"
    }
   ],
   "source": [
    "rep_syn = CSVword_syn_replacer('syn.csv')\n",
    "rep_syn.replace('bday')"
   ]
  },
  {
   "cell_type": "code",
   "execution_count": 83,
   "id": "b476d925",
   "metadata": {},
   "outputs": [
    {
     "name": "stdout",
     "output_type": "stream",
     "text": [
      "Requirement already satisfied: PyYAML in c:\\users\\sastra\\anaconda3\\lib\\site-packages (6.0)\n"
     ]
    }
   ],
   "source": [
    "!pip install PyYAML"
   ]
  },
  {
   "cell_type": "code",
   "execution_count": 84,
   "id": "62890d8c",
   "metadata": {},
   "outputs": [],
   "source": [
    "import yaml"
   ]
  },
  {
   "cell_type": "code",
   "execution_count": 87,
   "id": "8937232c",
   "metadata": {},
   "outputs": [],
   "source": [
    "class YAMLword_syn_replacer(word_syn_replacer):\n",
    "    def __init__(self, fname):\n",
    "        word_map = yaml.safe_load(open(fname))\n",
    "        super(YAMLword_syn_replacer, self).__init__(word_map)   "
   ]
  },
  {
   "cell_type": "code",
   "execution_count": 88,
   "id": "694bb2aa",
   "metadata": {},
   "outputs": [
    {
     "data": {
      "text/plain": [
       "'Birthday'"
      ]
     },
     "execution_count": 88,
     "metadata": {},
     "output_type": "execute_result"
    }
   ],
   "source": [
    "rep_syn1 = YAMLword_syn_replacer('syn.yaml')\n",
    "rep_syn1.replace('bday')"
   ]
  },
  {
   "cell_type": "code",
   "execution_count": 89,
   "id": "5ea5f53d",
   "metadata": {},
   "outputs": [],
   "source": [
    "class word_antonym_replacer(object):\n",
    "    def replace(self, word, pos = None):\n",
    "        antonyms = set()\n",
    "        for syn in wordnet.synsets(word, pos = pos):\n",
    "            for lemma in syn.lemmas():\n",
    "                for antonym in lemma.antonyms():\n",
    "                    antonyms.add(antonym.name())\n",
    "        if len(antonyms) == 1:\n",
    "            return antonyms.pop()\n",
    "        else:\n",
    "            return None\n",
    "    \n",
    "    def replace_negations(self, sent):\n",
    "        i, l = 0, len(sent)\n",
    "        words = []\n",
    "        while i < l:\n",
    "            word = sent[i]\n",
    "            if word == 'not' and i+1 < l:\n",
    "                ant = self.replace(sent[i+1])\n",
    "                if ant:\n",
    "                    words.append(ant)\n",
    "                    i += 2 \n",
    "                    continue\n",
    "            words.append(word)\n",
    "            i += 1\n",
    "        return words"
   ]
  },
  {
   "cell_type": "code",
   "execution_count": 90,
   "id": "d8ecdede",
   "metadata": {},
   "outputs": [
    {
     "data": {
      "text/plain": [
       "'beautify'"
      ]
     },
     "execution_count": 90,
     "metadata": {},
     "output_type": "execute_result"
    }
   ],
   "source": [
    "rep_antonym = word_antonym_replacer()\n",
    "rep_antonym.replace('uglify')"
   ]
  },
  {
   "cell_type": "code",
   "execution_count": 91,
   "id": "fe001b6a",
   "metadata": {},
   "outputs": [
    {
     "data": {
      "text/plain": [
       "['Let us', 'beautify', 'our', 'country']"
      ]
     },
     "execution_count": 91,
     "metadata": {},
     "output_type": "execute_result"
    }
   ],
   "source": [
    "sentence = [\"Let us\", \"not\", \"uglify\", \"our\", \"country\"]\n",
    "rep_antonym.replace_negations(sentence)"
   ]
  },
  {
   "cell_type": "code",
   "execution_count": null,
   "id": "2cea7b19",
   "metadata": {},
   "outputs": [],
   "source": []
  }
 ],
 "metadata": {
  "kernelspec": {
   "display_name": "Python 3 (ipykernel)",
   "language": "python",
   "name": "python3"
  },
  "language_info": {
   "codemirror_mode": {
    "name": "ipython",
    "version": 3
   },
   "file_extension": ".py",
   "mimetype": "text/x-python",
   "name": "python",
   "nbconvert_exporter": "python",
   "pygments_lexer": "ipython3",
   "version": "3.9.13"
  }
 },
 "nbformat": 4,
 "nbformat_minor": 5
}
