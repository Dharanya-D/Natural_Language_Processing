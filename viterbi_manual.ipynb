{
 "cells": [
  {
   "cell_type": "markdown",
   "id": "9305aa0c",
   "metadata": {},
   "source": [
    "# VITERBI ALGORITHM"
   ]
  },
  {
   "cell_type": "code",
   "execution_count": 41,
   "id": "3cbdd221",
   "metadata": {},
   "outputs": [
    {
     "name": "stdout",
     "output_type": "stream",
     "text": [
      "viterbi algorithmic procedure:\n",
      "\n",
      "enter no of states:2\n",
      "\n",
      "initial probability for each state:\n",
      "\n",
      "enter initial probability for state :1\n",
      "enter the state name:cp\n",
      "enter initial probability for state :0\n",
      "enter the state name:ip\n",
      "{0: 1.0, 1: 0.0}\n"
     ]
    }
   ],
   "source": [
    "print(\"viterbi algorithmic procedure:\\n\")\n",
    "n=int(input(\"enter no of states:\"))#STATES ARE CONSIDERED AS INTEGERS\n",
    "print(\"\\ninitial probability for each state:\\n\")\n",
    "prob={}\n",
    "state_name={}# ie. 0->x,1->y,2->z \n",
    "for i in range(n):#in this example 0->x,1->y,2->z\n",
    "    prob[i]=float(input(\"enter initial probability for state :\"))\n",
    "    s=input(\"enter the state name:\")\n",
    "    state_name[i]=s\n",
    "print(prob)"
   ]
  },
  {
   "cell_type": "code",
   "execution_count": 42,
   "id": "cd008de8",
   "metadata": {},
   "outputs": [
    {
     "name": "stdout",
     "output_type": "stream",
     "text": [
      "enter the output seq:lem ice-t cola\n",
      "\n",
      " output sequence: lem ice-t cola\n"
     ]
    }
   ],
   "source": [
    "\n",
    "output=input(\"enter the output seq:\")#give space where it acts as delimiteryuuoppppop0\n",
    "print(\"\\n output sequence:\",output)\n",
    "out=output.split()"
   ]
  },
  {
   "cell_type": "code",
   "execution_count": 43,
   "id": "a79faa57",
   "metadata": {},
   "outputs": [
    {
     "name": "stdout",
     "output_type": "stream",
     "text": [
      "\n",
      "state EMISSION schema:\n",
      "\n",
      "enter the emission states:cola ice-t lem\n",
      "\n",
      " output emissions: lem ice-t cola\n",
      "\n",
      "possible emissions: 6\n",
      "enter the emission probability for sequence i to j:0.6\n",
      "enter the emission probability for sequence i to j:0.1\n",
      "enter the emission probability for sequence i to j:0.3\n",
      "enter the emission probability for sequence i to j:0.1\n",
      "enter the emission probability for sequence i to j:0.7\n",
      "enter the emission probability for sequence i to j:0.2\n",
      "{(0, 'cola'): 0.6, (0, 'ice-t'): 0.1, (0, 'lem'): 0.3, (1, 'cola'): 0.1, (1, 'ice-t'): 0.7, (1, 'lem'): 0.2}\n"
     ]
    }
   ],
   "source": [
    "print(\"\\nstate EMISSION schema:\\n\")\n",
    "output1=input(\"enter the emission states:\")#columns for emission matrix (space ->seperator)\n",
    "print(\"\\n output emissions:\",output)\n",
    "out1=output1.split()\n",
    "p=n*(len(out1))\n",
    "print(\"\\npossible emissions:\",p)\n",
    "\n",
    "emit={}\n",
    "for i in range(n):\n",
    "    for j in out1:\n",
    "        emit[i,j]=float(input(\"enter the emission probability for sequence i to j:\"))\n",
    "print(emit)"
   ]
  },
  {
   "cell_type": "code",
   "execution_count": 44,
   "id": "aa32b963",
   "metadata": {},
   "outputs": [
    {
     "name": "stdout",
     "output_type": "stream",
     "text": [
      "\n",
      "state transition schema:\n",
      "\n",
      "\n",
      " no of transitions for given state: 4\n",
      "enter the transition probability for sequence i to j:0.7\n",
      "enter the transition probability for sequence i to j:0.3\n",
      "enter the transition probability for sequence i to j:0.5\n",
      "enter the transition probability for sequence i to j:0.5\n",
      "{(0, 0): 0.7, (0, 1): 0.3, (1, 0): 0.5, (1, 1): 0.5}\n"
     ]
    }
   ],
   "source": [
    "print(\"\\nstate transition schema:\\n\")\n",
    "t=n**2\n",
    "print(\"\\n no of transitions for given state:\",t)\n",
    "transition={}\n",
    "for i in range(n):\n",
    "    for j in range(n):\n",
    "        transition[i,j]=float(input(\"enter the transition probability for sequence i to j:\"))\n",
    "print(transition)"
   ]
  },
  {
   "cell_type": "code",
   "execution_count": 118,
   "id": "d626e453",
   "metadata": {},
   "outputs": [
    {
     "data": {
      "text/plain": [
       "[1.0, 0.0]"
      ]
     },
     "execution_count": 118,
     "metadata": {},
     "output_type": "execute_result"
    }
   ],
   "source": [
    "delta=[[],]\n",
    "for i in range(n):\n",
    "    delta[0].extend([prob[i]])\n",
    "delta[0]"
   ]
  },
  {
   "cell_type": "code",
   "execution_count": 119,
   "id": "8eb18560",
   "metadata": {},
   "outputs": [],
   "source": [
    "init_prob_item=list()\n",
    "state_list=list()\n",
    "\n",
    "for i in prob.values():\n",
    "    init_prob_item.append(i)\n",
    "    \n",
    "m=max(init_prob_item)\n",
    "v=init_prob_item.index(m)\n",
    "\n",
    "for i in range(n):\n",
    "    state_list.append(v)"
   ]
  },
  {
   "cell_type": "code",
   "execution_count": 120,
   "id": "e50e246a",
   "metadata": {},
   "outputs": [],
   "source": [
    "#comparing and appending maximum valued  state\n",
    "def max_state_addition(lists):\n",
    "    value=max(lists)\n",
    "    state_list.append(lists.index(value))"
   ]
  },
  {
   "cell_type": "code",
   "execution_count": 121,
   "id": "107b82ef",
   "metadata": {},
   "outputs": [],
   "source": [
    "def viterbi(n,out,transition,emit,delta):\n",
    "    maximum=[]\n",
    "    lists=[]\n",
    "    for i in range(n):#src state \n",
    "        for j in range(n):#dest state \n",
    "            value=delta[j]*emit[j,out]*transition[j,i]\n",
    "            #print(j,\"\\t\\t\",i,\"\\t\\t\")\n",
    "            lists.append(value)\n",
    "        else:\n",
    "            max_state_addition(lists)\n",
    "            maximum.append(max(lists))\n",
    "            lists=[]\n",
    "    #taking appropriate state and returning delta values\n",
    "    return maximum"
   ]
  },
  {
   "cell_type": "code",
   "execution_count": 122,
   "id": "cf6d3a35",
   "metadata": {},
   "outputs": [],
   "source": [
    "c=0\n",
    "for i in out:\n",
    "    #print(\"\\n i:\",i)\n",
    "    new=viterbi(n,i,transition,emit,delta[c])\n",
    "    delta.append(new)\n",
    "    #print(c)\n",
    "    c+=1"
   ]
  },
  {
   "cell_type": "code",
   "execution_count": 123,
   "id": "457bff90",
   "metadata": {},
   "outputs": [
    {
     "name": "stdout",
     "output_type": "stream",
     "text": [
      "[[1.0, 0.0], [0.21, 0.09], [0.0315, 0.0315], [0.013229999999999999, 0.00567]]\n"
     ]
    }
   ],
   "source": [
    "print(delta)"
   ]
  },
  {
   "cell_type": "code",
   "execution_count": 124,
   "id": "3317f99a",
   "metadata": {},
   "outputs": [
    {
     "name": "stdout",
     "output_type": "stream",
     "text": [
      "[0, 0, 0, 0, 1, 1, 0, 0]\n"
     ]
    }
   ],
   "source": [
    "print(state_list)\n",
    "sequence_state1=[]\n",
    "sequence_state2=[]\n",
    "sequence_state3=[]"
   ]
  },
  {
   "cell_type": "code",
   "execution_count": 125,
   "id": "32e2f21d",
   "metadata": {},
   "outputs": [
    {
     "name": "stdout",
     "output_type": "stream",
     "text": [
      "[[1.0, 0], [0.21, 0], [0.0315, 1], [0.013229999999999999, 0]] \n",
      " [[0.0, 0], [0.09, 0], [0.0315, 1], [0.00567, 0]]\n"
     ]
    }
   ],
   "source": [
    "c=0\n",
    "if len(delta[0])==2:\n",
    "    for i in delta:\n",
    "            sequence_state1.append([i[0],state_list[c]])\n",
    "            c+=1\n",
    "            sequence_state2.append([i[1],state_list[c]])\n",
    "            c+=1\n",
    "            #s[sequence_state1,sequence_state2]\n",
    "    print(sequence_state1,\"\\n\",sequence_state2)\n",
    "    \n",
    "    \n",
    "elif len(delta[0])==3:\n",
    "        for i in delta:\n",
    "            sequence_state1.append([i[0],state_list[c]])\n",
    "            c+=1\n",
    "            sequence_state2.append([i[1],state_list[c]])\n",
    "            c+=1\n",
    "            sequence_state3.append([i[2],state_list[c]])\n",
    "            c+=1\n",
    "            #s[sequence_state1,sequence_state2,sequence_state3]\n",
    "        print(sequence_state1,\"\\n\",sequence_state2,\"\\n\",sequence_state3)"
   ]
  },
  {
   "cell_type": "code",
   "execution_count": 129,
   "id": "794407af",
   "metadata": {},
   "outputs": [],
   "source": [
    "\n",
    "best_seq_rev=[]"
   ]
  },
  {
   "cell_type": "code",
   "execution_count": 130,
   "id": "b6b9ba94",
   "metadata": {},
   "outputs": [
    {
     "name": "stdout",
     "output_type": "stream",
     "text": [
      "\n",
      "\n",
      "probability of o/p seq: 0.013229999999999999 \n",
      "\n",
      "[0, 0, 1, 0]\n"
     ]
    }
   ],
   "source": [
    "count=len(sequence_state1)\n",
    "\n",
    "\n",
    "if n==2:\n",
    "    \n",
    "    for k in range(count):\n",
    "        #print(k)\n",
    "        i=sequence_state1[k]\n",
    "        j=sequence_state2[k]\n",
    "        #m=max(i[0],j[0])\n",
    "        if i[0]>j[0]:\n",
    "            #print(\"i--hii\")\n",
    "            best_seq_rev.append(i[1])\n",
    "        elif i[0]<j[0]:\n",
    "            #print(\"j-hii\")\n",
    "            best_seq_rev.append(j[1])\n",
    "        elif i[0]==j[0]:\n",
    "            #print(\"ui-j\")\n",
    "            best_seq_rev.append(i[1])\n",
    "    else:\n",
    "        print(\"\\n\\nprobability of o/p seq:\",max(sequence_state1[-1][0],sequence_state2[-1][0]),\"\\n\")\n",
    "    print(best_seq_rev)\n",
    "    \n",
    "    \n",
    "elif n==3:\n",
    "    \n",
    "    for k in range(count):\n",
    "        #print(k)\n",
    "        i=sequence_state1[k]\n",
    "        j=sequence_state2[k]\n",
    "        l=sequence_state3[k]\n",
    "        if i[0]>j[0] and i[0]>l[0]:\n",
    "            #print(\"i--hii\")\n",
    "            best_seq_rev.append(i[1])\n",
    "        elif j[0]>i[0] and j[0]>l[0]:\n",
    "            #print(\"j-hii\")\n",
    "            best_seq_rev.append(j[1])\n",
    "        elif l[0]>i[0] and l[0]>j[0]:\n",
    "            #print(\"ui-j\")\n",
    "            best_seq_rev.append(l[1])\n",
    "        else:\n",
    "            best_seq_rev.append(l[1])#if all r equal\n",
    "    else:\n",
    "        print(\"\\n\\nprobability of o/p seq:\",max(sequence_state1[-1][0],sequence_state2[-1][0],sequence_state3[-1][0]),\"\\n\")\n",
    "    print(best_seq_rev)\n",
    "    \n",
    "state_display=[]\n",
    "for k in best_seq_rev:\n",
    "    if k in state_name.keys():\n",
    "        state_display.append(state_name[k])"
   ]
  },
  {
   "cell_type": "code",
   "execution_count": 131,
   "id": "d1f710c8",
   "metadata": {},
   "outputs": [
    {
     "name": "stdout",
     "output_type": "stream",
     "text": [
      "['cp', 'ip', 'cp', 'cp']\n"
     ]
    }
   ],
   "source": [
    "state_display.reverse()\n",
    "print(state_display)"
   ]
  }
 ],
 "metadata": {
  "kernelspec": {
   "display_name": "Python 3",
   "language": "python",
   "name": "python3"
  },
  "language_info": {
   "codemirror_mode": {
    "name": "ipython",
    "version": 3
   },
   "file_extension": ".py",
   "mimetype": "text/x-python",
   "name": "python",
   "nbconvert_exporter": "python",
   "pygments_lexer": "ipython3",
   "version": "3.8.8"
  }
 },
 "nbformat": 4,
 "nbformat_minor": 5
}
