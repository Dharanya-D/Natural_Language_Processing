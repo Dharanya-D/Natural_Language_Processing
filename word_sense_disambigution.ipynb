{
 "cells": [
  {
   "cell_type": "code",
   "execution_count": 1,
   "id": "86c65276",
   "metadata": {},
   "outputs": [
    {
     "name": "stdout",
     "output_type": "stream",
     "text": [
      "The sense of 'Chair' is furniture. -4.221848749616356\n"
     ]
    }
   ],
   "source": [
    "# Data\n",
    "data = {\n",
    "    \"f\": [(\"Put\", \"coat\", \"back\", \"Chair\", \"sat\", \"down\"), (\"Chair\", \"made\", \"timber\", \"company\"), (\"Type\", \"different\", \"Chair\", \"Award\", \"fun\", \"use\")],\n",
    "    \"p\": [(\"Chair\", \"institute\", \"best\"), (\"Award\", \"IT\", \"Chair\")]\n",
    "}\n",
    "Vocabulary = [\"Put\", \"coat\", \"back\", \"Chair\", \"sat\", \"down\", \"made\", \"timber\", \"company\", \"Type\", \"different\", \"Award\", \"fun\", \"use\", \"institute\", \"best\", \"IT\"]\n",
    "Query = [\"Award\", \"Chair\", \"IT\", \"company\"]\n",
    "total_words = len(Vocabulary)\n",
    "\n",
    "# Counting occurrences and probabilities\n",
    "count = 0\n",
    "f_prob_word_given_chair = 0.0\n",
    "p_prob_word_given_chair = 0.0\n",
    "f_word_count = {}\n",
    "p_word_count = {}\n",
    "\n",
    "for category in data:\n",
    "    for sentence in data[category]:\n",
    "        count += 1\n",
    "        for word in sentence:\n",
    "            if category == \"f\":\n",
    "                if word == \"Chair\":\n",
    "                    f_prob_word_given_chair += 1.0\n",
    "                if word in f_word_count:\n",
    "                    f_word_count[word] += 1\n",
    "                else:\n",
    "                    f_word_count[word] = 1\n",
    "            else:\n",
    "                if word == \"Chair\":\n",
    "                    p_prob_word_given_chair += 1.0\n",
    "                if word in p_word_count:\n",
    "                    p_word_count[word] += 1\n",
    "                else:\n",
    "                    p_word_count[word] = 1\n",
    "\n",
    "f_prob_chair = f_prob_word_given_chair / count\n",
    "p_prob_chair = p_prob_word_given_chair / count\n",
    "\n",
    "prob_f = []\n",
    "prob_p = []\n",
    "\n",
    "# Computing conditional probabilities\n",
    "for word in Query:\n",
    "    count_f = f_word_count.get(word, 0)\n",
    "    count_p = p_word_count.get(word, 0)\n",
    "    conditional_prob_f = (count_f + 1) / (f_prob_word_given_chair + total_words)\n",
    "    conditional_prob_p = (count_p + 1) / (p_prob_word_given_chair + total_words)\n",
    "    prob_f.append(conditional_prob_f)\n",
    "    prob_p.append(conditional_prob_p)\n",
    "\n",
    "import math\n",
    "\n",
    "final_score_p = math.log10(p_prob_chair)\n",
    "final_score_f = math.log10(f_prob_chair)\n",
    "\n",
    "for prob_f_word in prob_f:\n",
    "    final_score_f += math.log10(prob_f_word)\n",
    "for prob_p_word in prob_p:\n",
    "    final_score_p += math.log10(prob_p_word)\n",
    "\n",
    "if final_score_f > final_score_p:\n",
    "    print(\"The sense of 'Chair' is furniture.\", final_score_f)\n",
    "else:\n",
    "    print(\"The sense of 'Chair' is position.\",final_score_p)"
   ]
  }
 ],
 "metadata": {
  "kernelspec": {
   "display_name": "Python 3 (ipykernel)",
   "language": "python",
   "name": "python3"
  },
  "language_info": {
   "codemirror_mode": {
    "name": "ipython",
    "version": 3
   },
   "file_extension": ".py",
   "mimetype": "text/x-python",
   "name": "python",
   "nbconvert_exporter": "python",
   "pygments_lexer": "ipython3",
   "version": "3.9.13"
  }
 },
 "nbformat": 4,
 "nbformat_minor": 5
}
