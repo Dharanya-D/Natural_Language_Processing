{
 "cells": [
  {
   "cell_type": "code",
   "execution_count": 1,
   "id": "aae86208",
   "metadata": {},
   "outputs": [],
   "source": [
    "from nltk.tree import *"
   ]
  },
  {
   "cell_type": "code",
   "execution_count": 2,
   "id": "3993279f",
   "metadata": {},
   "outputs": [],
   "source": [
    "left = Tree('NP', [Tree('A', ['The']), Tree('NN', ['sun'])])\n",
    "right = Tree('VP', [Tree('V', ['moves']), Tree('NN', ['eastward'])])"
   ]
  },
  {
   "cell_type": "code",
   "execution_count": 3,
   "id": "14042fec",
   "metadata": {},
   "outputs": [],
   "source": [
    "tree = Tree('S', [left, right])"
   ]
  },
  {
   "cell_type": "code",
   "execution_count": 4,
   "id": "58e12196",
   "metadata": {},
   "outputs": [
    {
     "name": "stdout",
     "output_type": "stream",
     "text": [
      "(S (NP (A The) (NN sun)) (VP (V moves) (NN eastward)))\n"
     ]
    }
   ],
   "source": [
    "print(tree)"
   ]
  },
  {
   "cell_type": "code",
   "execution_count": 5,
   "id": "a775df7b",
   "metadata": {},
   "outputs": [
    {
     "data": {
      "text/plain": [
       "('S', 'NP', 'VP')"
      ]
     },
     "execution_count": 5,
     "metadata": {},
     "output_type": "execute_result"
    }
   ],
   "source": [
    "tree.label(), left.label(), right.label()"
   ]
  },
  {
   "cell_type": "code",
   "execution_count": 6,
   "id": "2d837238",
   "metadata": {},
   "outputs": [
    {
     "name": "stdout",
     "output_type": "stream",
     "text": [
      "\\Tree [.S\n",
      "        [.NP [.A The ] [.NN sun ] ]\n",
      "        [.VP [.V moves ] [.NN eastward ] ] ]\n"
     ]
    }
   ],
   "source": [
    "print(tree.pformat_latex_qtree())"
   ]
  },
  {
   "cell_type": "code",
   "execution_count": 7,
   "id": "bf4cea5d",
   "metadata": {},
   "outputs": [
    {
     "name": "stdout",
     "output_type": "stream",
     "text": [
      "             S                    \n",
      "      _______|_________            \n",
      "     NP                VP         \n",
      "  ___|___          ____|_____      \n",
      " A       NN       V          NN   \n",
      " |       |        |          |     \n",
      "The     sun     moves     eastward\n",
      "\n"
     ]
    }
   ],
   "source": [
    "tree.pretty_print()"
   ]
  },
  {
   "cell_type": "code",
   "execution_count": 8,
   "id": "88820cc6",
   "metadata": {},
   "outputs": [
    {
     "name": "stdout",
     "output_type": "stream",
     "text": [
      "                S                       \n",
      "      ┌─────────┴───────────┐             \n",
      "      NP                    VP          \n",
      " ┌────┴────┐          ┌─────┴──────┐      \n",
      " A         NN         V            NN   \n",
      " │         │          │            │      \n",
      "The       sun       moves       eastward\n",
      "\n"
     ]
    }
   ],
   "source": [
    "tree.pretty_print(unicodelines=True, nodedist=2)"
   ]
  },
  {
   "cell_type": "code",
   "execution_count": 9,
   "id": "1797169c",
   "metadata": {},
   "outputs": [
    {
     "name": "stdout",
     "output_type": "stream",
     "text": [
      "sun\n"
     ]
    }
   ],
   "source": [
    "print(tree[0,1,0])"
   ]
  },
  {
   "cell_type": "code",
   "execution_count": 10,
   "id": "63c14f32",
   "metadata": {},
   "outputs": [
    {
     "name": "stdout",
     "output_type": "stream",
     "text": [
      "[(), (0,), (0, 0), (0, 0, 0), (0, 1), (0, 1, 0), (1,), (1, 0), (1, 0, 0), (1, 1), (1, 1, 0)]\n"
     ]
    }
   ],
   "source": [
    "print(tree.treepositions())"
   ]
  },
  {
   "cell_type": "code",
   "execution_count": 11,
   "id": "75563d1e",
   "metadata": {},
   "outputs": [],
   "source": [
    "tree2 = Tree.fromstring('(S (NP (A The) (NN sun)) (VP (V moves) (NN eastward)))')"
   ]
  },
  {
   "cell_type": "code",
   "execution_count": 12,
   "id": "40f76429",
   "metadata": {},
   "outputs": [
    {
     "name": "stdout",
     "output_type": "stream",
     "text": [
      "(S (NP (A The) (NN sun)) (VP (V moves) (NN eastward)))\n"
     ]
    }
   ],
   "source": [
    "print(tree2)"
   ]
  },
  {
   "cell_type": "code",
   "execution_count": 13,
   "id": "37d1be5b",
   "metadata": {},
   "outputs": [
    {
     "name": "stdout",
     "output_type": "stream",
     "text": [
      "(S (NP (A The) (NN sun)) (VP (V moves) (NN eastward)))\n"
     ]
    }
   ],
   "source": [
    "print(tree)"
   ]
  },
  {
   "cell_type": "code",
   "execution_count": 14,
   "id": "380b7dfa",
   "metadata": {},
   "outputs": [
    {
     "data": {
      "text/plain": [
       "True"
      ]
     },
     "execution_count": 14,
     "metadata": {},
     "output_type": "execute_result"
    }
   ],
   "source": [
    "tree == tree2"
   ]
  },
  {
   "cell_type": "code",
   "execution_count": 15,
   "id": "697ec491",
   "metadata": {},
   "outputs": [
    {
     "name": "stdout",
     "output_type": "stream",
     "text": [
      "(S (NP (A The) (NN moon)) (VP (V moves) (NN northward)))\n"
     ]
    }
   ],
   "source": [
    "tree3 = ImmutableTree.fromstring('(S (NP (A The) (NN moon)) (VP (V moves) (NN northward)))')\n",
    "print(tree3)"
   ]
  },
  {
   "cell_type": "code",
   "execution_count": 16,
   "id": "9b78e287",
   "metadata": {},
   "outputs": [
    {
     "data": {
      "text/plain": [
       "nltk.tree.immutable.ImmutableTree"
      ]
     },
     "execution_count": 16,
     "metadata": {},
     "output_type": "execute_result"
    }
   ],
   "source": [
    "type(tree3)"
   ]
  },
  {
   "cell_type": "code",
   "execution_count": 17,
   "id": "42d7801b",
   "metadata": {},
   "outputs": [],
   "source": [
    "tree4 = Tree.fromstring('(S (NP (A The) (NN moon)) (VP (V moves) (NN northward)))')"
   ]
  },
  {
   "cell_type": "code",
   "execution_count": 18,
   "id": "a8bb4c5a",
   "metadata": {},
   "outputs": [
    {
     "name": "stdout",
     "output_type": "stream",
     "text": [
      "              S                     \n",
      "      ________|_________             \n",
      "     NP                 VP          \n",
      "  ___|___           ____|______      \n",
      " A       NN        V           NN   \n",
      " |       |         |           |     \n",
      "The     moon     moves     northward\n",
      "\n"
     ]
    }
   ],
   "source": [
    "tree4.pretty_print()"
   ]
  },
  {
   "cell_type": "code",
   "execution_count": 19,
   "id": "8753ae04",
   "metadata": {},
   "outputs": [],
   "source": [
    "tree5 = Tree.fromstring('(S (NP (A The) (NN car)) (VP (V moves) (NN straight)))', read_node=lambda s: '<%s>'%s, read_leaf=lambda s: '\"\"%s\"'%s  )"
   ]
  },
  {
   "cell_type": "code",
   "execution_count": 20,
   "id": "68da3b67",
   "metadata": {},
   "outputs": [
    {
     "name": "stdout",
     "output_type": "stream",
     "text": [
      "(<S>\n",
      "  (<NP> (<A> \"\"The\") (<NN> \"\"car\"))\n",
      "  (<VP> (<V> \"\"moves\") (<NN> \"\"straight\")))\n",
      "                   <S>                          \n",
      "         ___________|____________                \n",
      "       <NP>                     <VP>            \n",
      "   _____|_____             ______|________       \n",
      " <A>         <NN>        <V>             <NN>   \n",
      "  |           |           |               |      \n",
      "\"\"The\"      \"\"car\"     \"\"moves\"      \"\"straight\"\n",
      "\n"
     ]
    }
   ],
   "source": [
    "print(tree5)\n",
    "tree5.pretty_print()"
   ]
  },
  {
   "cell_type": "code",
   "execution_count": 22,
   "id": "91fba280",
   "metadata": {},
   "outputs": [],
   "source": [
    "import nltk"
   ]
  },
  {
   "cell_type": "code",
   "execution_count": 23,
   "id": "d81c4755",
   "metadata": {},
   "outputs": [],
   "source": [
    " groucho_grammar = nltk.CFG.fromstring(\"\"\"\n",
    "... S -> NP VP\n",
    "... PP -> P NP\n",
    "... NP -> Det N | Det N PP | 'I'\n",
    "... VP -> V NP | VP PP\n",
    "... Det -> 'an' | 'my'\n",
    "... N -> 'elephant' | 'pajamas'\n",
    "... V -> 'shot'\n",
    "... P -> 'in'\n",
    "... \"\"\")"
   ]
  },
  {
   "cell_type": "code",
   "execution_count": 24,
   "id": "e0e83fbd",
   "metadata": {},
   "outputs": [],
   "source": [
    "sent = ['I', 'shot', 'an', 'elephant', 'in', 'my', 'pajamas']"
   ]
  },
  {
   "cell_type": "code",
   "execution_count": 25,
   "id": "b2bb1d1f",
   "metadata": {},
   "outputs": [],
   "source": [
    "parser = nltk.ChartParser(groucho_grammar)"
   ]
  },
  {
   "cell_type": "code",
   "execution_count": 26,
   "id": "9b8ea69f",
   "metadata": {},
   "outputs": [
    {
     "name": "stdout",
     "output_type": "stream",
     "text": [
      "(S\n",
      "  (NP I)\n",
      "  (VP\n",
      "    (VP (V shot) (NP (Det an) (N elephant)))\n",
      "    (PP (P in) (NP (Det my) (N pajamas)))))\n",
      "(S\n",
      "  (NP I)\n",
      "  (VP\n",
      "    (V shot)\n",
      "    (NP (Det an) (N elephant) (PP (P in) (NP (Det my) (N pajamas))))))\n"
     ]
    }
   ],
   "source": [
    "for tree in parser.parse(sent):\n",
    "    print(tree)"
   ]
  },
  {
   "cell_type": "code",
   "execution_count": 59,
   "id": "d4b62cf7",
   "metadata": {},
   "outputs": [],
   "source": [
    "groucho_grammar = nltk.CFG.fromstring(\"\"\"\n",
    "... S -> NP VP\n",
    "... PP -> P NP\n",
    "... NP -> Det N | NP PP\n",
    "... VP -> V NP\n",
    "... Det -> 'a' | 'the'\n",
    "... N -> 'cake' | 'child' | 'fork'\n",
    "... V -> 'ate'\n",
    "... P -> 'with'\n",
    "... \"\"\")"
   ]
  },
  {
   "cell_type": "code",
   "execution_count": 60,
   "id": "81ee8261",
   "metadata": {},
   "outputs": [],
   "source": [
    "sent = ['the', 'child', 'ate', 'the', 'cake', 'with', 'a','fork']"
   ]
  },
  {
   "cell_type": "code",
   "execution_count": 61,
   "id": "72ee3498",
   "metadata": {},
   "outputs": [],
   "source": [
    "parser = nltk.ChartParser(groucho_grammar)"
   ]
  },
  {
   "cell_type": "code",
   "execution_count": 62,
   "id": "a81cba14",
   "metadata": {},
   "outputs": [
    {
     "name": "stdout",
     "output_type": "stream",
     "text": [
      "(S\n",
      "  (NP (Det the) (N child))\n",
      "  (VP\n",
      "    (V ate)\n",
      "    (NP (NP (Det the) (N cake)) (PP (P with) (NP (Det a) (N fork))))))\n"
     ]
    }
   ],
   "source": [
    "for tree in parser.parse(sent):\n",
    "    print(tree)"
   ]
  },
  {
   "cell_type": "code",
   "execution_count": 43,
   "id": "b26af735",
   "metadata": {},
   "outputs": [],
   "source": [
    "groucho_grammar = nltk.CFG.fromstring(\"\"\"\n",
    "... S -> NP VP\n",
    "... PP -> P NP\n",
    "... NP -> NP PP\n",
    "... VP -> V NP | VP PP\n",
    "... NP -> 'astronomers' | 'ears' | 'saw' | 'stars' | 'telescopes'\n",
    "... V -> 'saw'\n",
    "... P -> 'with'\n",
    "... \"\"\")"
   ]
  },
  {
   "cell_type": "code",
   "execution_count": 44,
   "id": "6bf0be70",
   "metadata": {},
   "outputs": [],
   "source": [
    "sent1 = ['astronomers', 'saw', 'stars',  'with', 'ears']"
   ]
  },
  {
   "cell_type": "code",
   "execution_count": 45,
   "id": "12ede310",
   "metadata": {},
   "outputs": [],
   "source": [
    "parser = nltk.ChartParser(groucho_grammar)"
   ]
  },
  {
   "cell_type": "code",
   "execution_count": 46,
   "id": "cc46dee9",
   "metadata": {},
   "outputs": [
    {
     "name": "stdout",
     "output_type": "stream",
     "text": [
      "(S\n",
      "  (NP astronomers)\n",
      "  (VP (VP (V saw) (NP stars)) (PP (P with) (NP ears))))\n",
      "(S\n",
      "  (NP astronomers)\n",
      "  (VP (V saw) (NP (NP stars) (PP (P with) (NP ears)))))\n"
     ]
    }
   ],
   "source": [
    "for tree in parser.parse(sent1):\n",
    "    print(tree)"
   ]
  }
 ],
 "metadata": {
  "kernelspec": {
   "display_name": "Python 3 (ipykernel)",
   "language": "python",
   "name": "python3"
  },
  "language_info": {
   "codemirror_mode": {
    "name": "ipython",
    "version": 3
   },
   "file_extension": ".py",
   "mimetype": "text/x-python",
   "name": "python",
   "nbconvert_exporter": "python",
   "pygments_lexer": "ipython3",
   "version": "3.11.3"
  }
 },
 "nbformat": 4,
 "nbformat_minor": 5
}
