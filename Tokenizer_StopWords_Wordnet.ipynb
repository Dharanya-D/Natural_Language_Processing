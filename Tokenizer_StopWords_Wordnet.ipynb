{
 "cells": [
  {
   "cell_type": "code",
   "execution_count": 1,
   "id": "f06ef33c",
   "metadata": {},
   "outputs": [],
   "source": [
    "from nltk.tokenize import PunktSentenceTokenizer\n"
   ]
  },
  {
   "cell_type": "code",
   "execution_count": 2,
   "id": "73716092",
   "metadata": {},
   "outputs": [],
   "source": [
    "from nltk.corpus import webtext\n"
   ]
  },
  {
   "cell_type": "code",
   "execution_count": 3,
   "id": "7af5292f",
   "metadata": {},
   "outputs": [],
   "source": [
    "text = webtext.raw()\n"
   ]
  },
  {
   "cell_type": "code",
   "execution_count": 4,
   "id": "4d96a928",
   "metadata": {},
   "outputs": [
    {
     "name": "stdout",
     "output_type": "stream",
     "text": [
      "Cookie Manager: \"Don't allow sites that set removed cookies to set future cookies\" should stay checked\r\n",
      "When in full screen mode\r\n",
      "Pressing Ctrl-N should open a new browser when only download dialog is left open\r\n",
      "add icons to context menu\r\n",
      "So called \"tab bar\" should be made a proper toolbar or given the ability collapse / expand.\n"
     ]
    }
   ],
   "source": [
    "sent_tokenizer = PunktSentenceTokenizer(text)\n",
    "sents_1 = sent_tokenizer.tokenize(text)\n",
    "print(sents_1[0])"
   ]
  },
  {
   "cell_type": "code",
   "execution_count": 5,
   "id": "c168985a",
   "metadata": {},
   "outputs": [],
   "source": [
    "from nltk.corpus import stopwords\n"
   ]
  },
  {
   "cell_type": "code",
   "execution_count": 6,
   "id": "8630cc2e",
   "metadata": {},
   "outputs": [
    {
     "data": {
      "text/plain": [
       "['I', 'writer']"
      ]
     },
     "execution_count": 6,
     "metadata": {},
     "output_type": "execute_result"
    }
   ],
   "source": [
    "english_stops = set(stopwords.words('english'))\n",
    "words = ['I', 'am', 'a', 'writer']\n",
    "[word for word in words if word not in english_stops]\n"
   ]
  },
  {
   "cell_type": "code",
   "execution_count": 7,
   "id": "987423fa",
   "metadata": {},
   "outputs": [
    {
     "data": {
      "text/plain": [
       "['arabic',\n",
       " 'azerbaijani',\n",
       " 'basque',\n",
       " 'bengali',\n",
       " 'catalan',\n",
       " 'chinese',\n",
       " 'danish',\n",
       " 'dutch',\n",
       " 'english',\n",
       " 'finnish',\n",
       " 'french',\n",
       " 'german',\n",
       " 'greek',\n",
       " 'hebrew',\n",
       " 'hinglish',\n",
       " 'hungarian',\n",
       " 'indonesian',\n",
       " 'italian',\n",
       " 'kazakh',\n",
       " 'nepali',\n",
       " 'norwegian',\n",
       " 'portuguese',\n",
       " 'romanian',\n",
       " 'russian',\n",
       " 'slovene',\n",
       " 'spanish',\n",
       " 'swedish',\n",
       " 'tajik',\n",
       " 'turkish']"
      ]
     },
     "execution_count": 7,
     "metadata": {},
     "output_type": "execute_result"
    }
   ],
   "source": [
    "stopwords.fileids()\n"
   ]
  },
  {
   "cell_type": "code",
   "execution_count": 8,
   "id": "44298e82",
   "metadata": {},
   "outputs": [],
   "source": [
    "from nltk.corpus import wordnet as wn"
   ]
  },
  {
   "cell_type": "code",
   "execution_count": 9,
   "id": "f4f828ac",
   "metadata": {},
   "outputs": [
    {
     "data": {
      "text/plain": [
       "'dog.n.01'"
      ]
     },
     "execution_count": 9,
     "metadata": {},
     "output_type": "execute_result"
    }
   ],
   "source": [
    "syn = wn.synsets('dog')[0]\n",
    "syn.name()\n"
   ]
  },
  {
   "cell_type": "code",
   "execution_count": 10,
   "id": "ec24d744",
   "metadata": {},
   "outputs": [
    {
     "data": {
      "text/plain": [
       "'a member of the genus Canis (probably descended from the common wolf) that has been domesticated by man since prehistoric times; occurs in many breeds'"
      ]
     },
     "execution_count": 10,
     "metadata": {},
     "output_type": "execute_result"
    }
   ],
   "source": [
    "syn.definition()\n"
   ]
  },
  {
   "cell_type": "code",
   "execution_count": 11,
   "id": "2d184fec",
   "metadata": {},
   "outputs": [
    {
     "data": {
      "text/plain": [
       "['the dog barked all night']"
      ]
     },
     "execution_count": 11,
     "metadata": {},
     "output_type": "execute_result"
    }
   ],
   "source": [
    "syn.examples()\n"
   ]
  },
  {
   "cell_type": "code",
   "execution_count": 12,
   "id": "2cfb1382",
   "metadata": {},
   "outputs": [
    {
     "data": {
      "text/plain": [
       "[Synset('canine.n.02'), Synset('domestic_animal.n.01')]"
      ]
     },
     "execution_count": 12,
     "metadata": {},
     "output_type": "execute_result"
    }
   ],
   "source": [
    "syn.hypernyms()"
   ]
  },
  {
   "cell_type": "code",
   "execution_count": 13,
   "id": "24486b63",
   "metadata": {},
   "outputs": [
    {
     "data": {
      "text/plain": [
       "[Synset('bitch.n.04'),\n",
       " Synset('dog.n.01'),\n",
       " Synset('fox.n.01'),\n",
       " Synset('hyena.n.01'),\n",
       " Synset('jackal.n.01'),\n",
       " Synset('wild_dog.n.01'),\n",
       " Synset('wolf.n.01')]"
      ]
     },
     "execution_count": 13,
     "metadata": {},
     "output_type": "execute_result"
    }
   ],
   "source": [
    "syn.hypernyms()[0].hyponyms()"
   ]
  },
  {
   "cell_type": "code",
   "execution_count": 14,
   "id": "3d3dee02",
   "metadata": {},
   "outputs": [
    {
     "data": {
      "text/plain": [
       "[Synset('entity.n.01')]"
      ]
     },
     "execution_count": 14,
     "metadata": {},
     "output_type": "execute_result"
    }
   ],
   "source": [
    "syn.root_hypernyms()"
   ]
  },
  {
   "cell_type": "code",
   "execution_count": 15,
   "id": "579fc167",
   "metadata": {},
   "outputs": [
    {
     "data": {
      "text/plain": [
       "3"
      ]
     },
     "execution_count": 15,
     "metadata": {},
     "output_type": "execute_result"
    }
   ],
   "source": [
    "lemmas = syn.lemmas()\n",
    "len(lemmas)"
   ]
  },
  {
   "cell_type": "code",
   "execution_count": 16,
   "id": "6af83523",
   "metadata": {},
   "outputs": [
    {
     "name": "stdout",
     "output_type": "stream",
     "text": [
      "dog\n",
      "domestic_dog\n",
      "Canis_familiaris\n"
     ]
    }
   ],
   "source": [
    "for i in lemmas:\n",
    "    print(i.name())"
   ]
  },
  {
   "cell_type": "code",
   "execution_count": 17,
   "id": "716372db",
   "metadata": {},
   "outputs": [
    {
     "name": "stdout",
     "output_type": "stream",
     "text": [
      "[Lemma('evil.n.03.evil')]\n",
      "[Lemma('evil.n.03.evilness')]\n"
     ]
    }
   ],
   "source": [
    "syn1 = wn.synset('good.n.02')\n",
    "lemmas1 = syn1.lemmas()\n",
    "for i in lemmas1:\n",
    "    print(i.antonyms())"
   ]
  },
  {
   "cell_type": "code",
   "execution_count": 18,
   "id": "ba7f6eb7",
   "metadata": {},
   "outputs": [
    {
     "name": "stdout",
     "output_type": "stream",
     "text": [
      "bad\n"
     ]
    }
   ],
   "source": [
    "syn1 = wn.synset('good.a.01')\n",
    "lemmas1 = syn1.lemmas()\n",
    "for i in lemmas1:\n",
    "    for j in i.antonyms():\n",
    "        print(j.name())"
   ]
  }
 ],
 "metadata": {
  "kernelspec": {
   "display_name": "Python 3 (ipykernel)",
   "language": "python",
   "name": "python3"
  },
  "language_info": {
   "codemirror_mode": {
    "name": "ipython",
    "version": 3
   },
   "file_extension": ".py",
   "mimetype": "text/x-python",
   "name": "python",
   "nbconvert_exporter": "python",
   "pygments_lexer": "ipython3",
   "version": "3.9.13"
  }
 },
 "nbformat": 4,
 "nbformat_minor": 5
}
