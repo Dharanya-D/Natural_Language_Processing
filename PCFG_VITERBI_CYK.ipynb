{
 "cells": [
  {
   "cell_type": "code",
   "execution_count": 1,
   "id": "eaa85c76",
   "metadata": {
    "id": "eaa85c76"
   },
   "outputs": [],
   "source": [
    "#PCFG-CYK AND VITERBI"
   ]
  },
  {
   "cell_type": "code",
   "execution_count": 9,
   "id": "47887db7",
   "metadata": {
    "id": "47887db7"
   },
   "outputs": [],
   "source": [
    "from nltk import PCFG, ViterbiParser, InsideChartParser\n",
    "import numpy as np\n",
    "import pandas as pd"
   ]
  },
  {
   "cell_type": "code",
   "execution_count": 3,
   "id": "75bf3392",
   "metadata": {
    "id": "75bf3392"
   },
   "outputs": [],
   "source": [
    "# Define a PCFG grammar\n",
    "grammar =  PCFG.fromstring(\"\"\"\n",
    "S -> NP VP [1.0]\n",
    "VP -> V NP [0.7] | VP PP [0.3]\n",
    "NP -> Det N [0.5] | NP PP [0.2] | 'John' [0.3]\n",
    "PP -> P NP [1.0]\n",
    "V -> 'saw' [0.2] | 'ate' [0.8]\n",
    "Det -> 'the' [0.6] | 'a' [0.4]\n",
    "N -> 'man' [0.5] | 'telescope' [0.5]\n",
    "P -> 'with' [0.4] | 'in' [0.6]\n",
    "\"\"\")\n",
    "\n",
    "# Create a Viterbi parser\n",
    "parser = ViterbiParser(grammar)\n",
    "\n",
    "# Parse a sentence\n",
    "sentence = \"John saw a man with a telescope\"\n",
    "tokens = sentence.split()\n"
   ]
  },
  {
   "cell_type": "code",
   "execution_count": 4,
   "id": "d9bdc819",
   "metadata": {
    "id": "d9bdc819",
    "outputId": "dbfe7f87-26d7-4f28-8894-4d89552485b7"
   },
   "outputs": [
    {
     "name": "stdout",
     "output_type": "stream",
     "text": [
      "(S\n",
      "  (NP John)\n",
      "  (VP\n",
      "    (VP (V saw) (NP (Det a) (N man)))\n",
      "    (PP (P with) (NP (Det a) (N telescope))))) (p=5.04e-05)\n"
     ]
    }
   ],
   "source": [
    "for tree in parser.parse(tokens):\n",
    "    print(tree)"
   ]
  },
  {
   "cell_type": "code",
   "execution_count": 5,
   "id": "0b2d6d95",
   "metadata": {
    "id": "0b2d6d95"
   },
   "outputs": [],
   "source": [
    "# Create a InsideChart parser\n",
    "parser = InsideChartParser(grammar)\n",
    "\n",
    "# Parse a sentence\n",
    "sentence = \"John saw a man with a telescope\"\n",
    "tokens = sentence.split()"
   ]
  },
  {
   "cell_type": "code",
   "execution_count": 6,
   "id": "e444401f",
   "metadata": {
    "id": "e444401f",
    "outputId": "8a02dfe1-6c11-47d3-8517-d33a40844379"
   },
   "outputs": [
    {
     "name": "stdout",
     "output_type": "stream",
     "text": [
      "(S\n",
      "  (NP John)\n",
      "  (VP\n",
      "    (VP (V saw) (NP (Det a) (N man)))\n",
      "    (PP (P with) (NP (Det a) (N telescope))))) (p=5.04e-05)\n",
      "(S\n",
      "  (NP John)\n",
      "  (VP\n",
      "    (V saw)\n",
      "    (NP\n",
      "      (NP (Det a) (N man))\n",
      "      (PP (P with) (NP (Det a) (N telescope)))))) (p=3.36e-05)\n"
     ]
    }
   ],
   "source": [
    "for tree in parser.parse(tokens):\n",
    "    print(tree)"
   ]
  },
  {
   "cell_type": "code",
   "execution_count": 7,
   "id": "8f867299",
   "metadata": {
    "id": "8f867299"
   },
   "outputs": [
    {
     "name": "stdout",
     "output_type": "stream",
     "text": [
      "                  S                    \n",
      "      ____________|____                 \n",
      "     |                 VP              \n",
      "     |        _________|___             \n",
      "     |       |             NP          \n",
      "     |       |     ________|____        \n",
      "     |       |    |             PP     \n",
      "     |       |    |         ____|___    \n",
      "     NP      V    NP       P        NP \n",
      "     |       |    |        |        |   \n",
      "astronomers saw stars     with     ears\n",
      "\n"
     ]
    }
   ],
   "source": [
    "#Parse the sentence and get the most likely parse tree (Viterbi parser)\n",
    "\n",
    "import nltk\n",
    "from nltk.grammar import PCFG\n",
    "from nltk.parse.viterbi import ViterbiParser\n",
    "from nltk.tree import Tree\n",
    "\n",
    "#Define a probabilistic context-free grammar\n",
    "grammar = PCFG.fromstring(\"\"\"\n",
    "    S -> NP VP [1.0]\n",
    "    PP -> P NP [1.0]\n",
    "    VP -> V NP [0.7] | VP PP [0.3]\n",
    "    P -> 'with' [1.0]\n",
    "    V -> 'saw' [1.0]\n",
    "    NP -> NP PP [0.4] |'astronomers' [0.1] | 'ears' [0.18] | 'saw' [0.04] | 'stars' [0.18] | 'telescope' [0.1]\n",
    "\"\"\")\n",
    "\n",
    "#Create a Viterbi parser\n",
    "parser = ViterbiParser(grammar)\n",
    "\n",
    "#Define the input sentence\n",
    "sentence = \"astronomers saw stars with ears\"\n",
    "\n",
    "#Tokenize the sentence\n",
    "tokens = sentence.split()\n",
    "\n",
    "#Parse the sentence and get the most likely parse tree\n",
    "try:\n",
    "    for tree in parser.parse(tokens):\n",
    "        tree.pretty_print()\n",
    "except ValueError:\n",
    "    print(\"No parse tree found for the sentence.\")"
   ]
  },
  {
   "cell_type": "code",
   "execution_count": 8,
   "id": "276e83dc",
   "metadata": {},
   "outputs": [
    {
     "name": "stdout",
     "output_type": "stream",
     "text": [
      "The sentence \"the cat chased the dog\" is grammatically correct with a probability of: 0.00048599999999999994\n",
      "The sentence \"the dog chased the cat\" is grammatically correct with a probability of: 0.00048599999999999994\n",
      "The sentence \"the dog chased the bird\" is grammatically correct with a probability of: 0.00048599999999999994\n",
      "The sentence \"Book read\" is not grammatically correct.\n"
     ]
    }
   ],
   "source": [
    "# CYK Used defined\n",
    "import numpy as pd\n",
    "import nltk\n",
    "# Define a Probabilistic Context-Free Grammar (PCFG)\n",
    "pcfg = nltk.PCFG.fromstring(\"\"\"\n",
    " S -> NP VP [0.9]\n",
    " S -> VP [0.1]\n",
    " VP -> V NP [0.5]\n",
    " VP -> V [0.5]\n",
    " NP -> Det N [0.3]\n",
    " NP -> N [0.7]\n",
    " N -> 'cat' [0.2]\n",
    " N -> 'book' [0.2]\n",
    " N -> 'bird' [0.2]\n",
    " N -> 'dog' [0.4]\n",
    " V -> 'read' [0.1]\n",
    " V -> 'chased' [0.6]\n",
    " V -> 'ate' [0.3]\n",
    " Det -> 'the' [0.5]\n",
    " Det -> 'a' [0.5]\n",
    "\"\"\")\n",
    "\n",
    "sentences=[\n",
    " \"the cat chased the dog\",\n",
    " \"the dog chased the cat\",\n",
    " \"the dog chased the bird\",\n",
    " \"Book read\"\n",
    "]\n",
    "\n",
    "\n",
    "# Input sentence to parse\n",
    "\n",
    "#sentence = \"the cat chased the dog\".split()\n",
    "\n",
    "def cyk_parse_with_probability(pcfg, sentence):\n",
    "  n = len(sentence)\n",
    "  table = [[[] for _ in range(n)] for _ in range(n)]\n",
    "  # Initialize the table with production probabilities\n",
    "  for i in range(n):\n",
    "    for prod in pcfg.productions(rhs=sentence[i]):\n",
    "      table[i][i] = [(prod.lhs(), prod.prob())]\n",
    "\n",
    "  # Fill the table for longer substrings\n",
    "  for length in range(2, n + 1):\n",
    "    for i in range(n - length + 1):\n",
    "      j = i + length - 1\n",
    "      for k in range(i, j):\n",
    "        for prod in pcfg.productions():\n",
    "          for left, left_prob in table[i][k]:\n",
    "            for right, right_prob in table[k + 1][j]:\n",
    "              if prod.rhs() == (left, right):\n",
    "                prob = left_prob * right_prob *prod.prob()\n",
    "                if table[i][j] is None:\n",
    "                  table[i][j] = [(prod.lhs(), prob)]\n",
    "                else:\n",
    "                  table[i][j].append((prod.lhs(),prob))\n",
    "\n",
    "  # Check if the start symbol is in the top-right cell\n",
    "  if pcfg.start() in [lhs for lhs, prob in table[0][n - 1]]:\n",
    "    # Find the probability for the full sentence\n",
    "    for lhs, prob in table[0][n - 1]:\n",
    "      if lhs == pcfg.start():\n",
    "        return prob\n",
    "  return 0.0\n",
    "\n",
    "\n",
    "\n",
    "# Parse the sentence and calculate the probability\n",
    "for sent in sentences:\n",
    "  probability = cyk_parse_with_probability(pcfg,sent.lower().split())\n",
    "  if probability > 0:\n",
    "    print(f'The sentence \"{sent}\" is grammatically correct with a probability of:', probability)\n",
    "  else:\n",
    "    print(f\"The sentence \\\"{sent}\\\" is not grammatically correct.\")"
   ]
  }
 ],
 "metadata": {
  "colab": {
   "provenance": []
  },
  "kernelspec": {
   "display_name": "Python 3 (ipykernel)",
   "language": "python",
   "name": "python3"
  },
  "language_info": {
   "codemirror_mode": {
    "name": "ipython",
    "version": 3
   },
   "file_extension": ".py",
   "mimetype": "text/x-python",
   "name": "python",
   "nbconvert_exporter": "python",
   "pygments_lexer": "ipython3",
   "version": "3.9.13"
  }
 },
 "nbformat": 4,
 "nbformat_minor": 5
}
