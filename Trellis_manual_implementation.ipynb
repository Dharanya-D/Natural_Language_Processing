{
 "cells": [
  {
   "cell_type": "markdown",
   "id": "6f52470b",
   "metadata": {},
   "source": [
    "# TRELLIS ALGORITHM"
   ]
  },
  {
   "cell_type": "code",
   "execution_count": 3,
   "id": "483a9a76",
   "metadata": {},
   "outputs": [
    {
     "name": "stdout",
     "output_type": "stream",
     "text": [
      "Trellis algorithmic procedure:\n",
      "\n",
      "enter no of states:2\n",
      "\n",
      "initial probability for each state:\n",
      "\n",
      "enter initial probability for state :1\n",
      "enter the state name:cp\n",
      "enter initial probability for state :0\n",
      "enter the state name:ip\n",
      "{0: 1.0, 1: 0.0}\n"
     ]
    }
   ],
   "source": [
    "print(\"Trellis algorithmic procedure:\\n\")\n",
    "n=int(input(\"enter no of states:\"))#states are considered as integers[0,1,2,....]\n",
    "print(\"\\ninitial probability for each state:\\n\")\n",
    "prob={}\n",
    "state_name={}# ie. 0->x,1->y,2->z \n",
    "for i in range(n):\n",
    "    prob[i]=float(input(\"enter initial probability for state :\"))\n",
    "    s=input(\"enter the state name:\")\n",
    "    state_name[i]=s\n",
    "print(prob)"
   ]
  },
  {
   "cell_type": "code",
   "execution_count": 4,
   "id": "ed3c0138",
   "metadata": {},
   "outputs": [
    {
     "name": "stdout",
     "output_type": "stream",
     "text": [
      "enter the output seq:lem ice-t cola\n",
      "\n",
      " output sequence: lem ice-t cola\n"
     ]
    }
   ],
   "source": [
    "output=input(\"enter the output seq:\")#space acts as a seperator ie. lem ice-t cola\n",
    "print(\"\\n output sequence:\",output)\n",
    "out=output.split()"
   ]
  },
  {
   "cell_type": "code",
   "execution_count": 7,
   "id": "c112f139",
   "metadata": {},
   "outputs": [
    {
     "name": "stdout",
     "output_type": "stream",
     "text": [
      "\n",
      "state EMISSION schema:\n",
      "\n",
      "enter the emission states:cola ice-t lem\n",
      "\n",
      " output emissions: lem ice-t cola\n",
      "\n",
      "possible emissions: 6\n",
      "enter the emission probability for sequence i to j:0.6\n",
      "enter the emission probability for sequence i to j:0.1\n",
      "enter the emission probability for sequence i to j:0.3\n",
      "enter the emission probability for sequence i to j:0.1\n",
      "enter the emission probability for sequence i to j:0.7\n",
      "enter the emission probability for sequence i to j:0.2\n",
      "\n",
      " {(0, 'cola'): 0.6, (0, 'ice-t'): 0.1, (0, 'lem'): 0.3, (1, 'cola'): 0.1, (1, 'ice-t'): 0.7, (1, 'lem'): 0.2}\n"
     ]
    }
   ],
   "source": [
    "print(\"\\nstate EMISSION schema:\\n\")\n",
    "output1=input(\"enter the emission states:\")#column names for emission matrix\n",
    "print(\"\\n output emissions:\",output)\n",
    "out1_emit=output1.split()\n",
    "p=n*(len(out1_emit))\n",
    "print(\"\\npossible emissions:\",p)\n",
    "\n",
    "emit={}\n",
    "for i in range(n):\n",
    "    #loop iterates states\n",
    "    for j in out1_emit:\n",
    "        #loop that moves the columns of emission matrix\n",
    "        emit[i,j]=float(input(\"enter the emission probability for sequence i to j:\"))\n",
    "print(\"\\n\",emit)"
   ]
  },
  {
   "cell_type": "code",
   "execution_count": 8,
   "id": "db7bd956",
   "metadata": {},
   "outputs": [
    {
     "name": "stdout",
     "output_type": "stream",
     "text": [
      "\n",
      "state transition schema:\n",
      "\n",
      "\n",
      " no of transitions for given state: 4\n",
      "enter the transition probability for sequence i to j:0.7\n",
      "enter the transition probability for sequence i to j:0.3\n",
      "enter the transition probability for sequence i to j:0.5\n",
      "enter the transition probability for sequence i to j:0.5\n",
      "{(0, 0): 0.7, (0, 1): 0.3, (1, 0): 0.5, (1, 1): 0.5}\n"
     ]
    }
   ],
   "source": [
    "#transition matrix\n",
    "print(\"\\nstate transition schema:\\n\")\n",
    "t=n**2\n",
    "print(\"\\n no of transitions for given state:\",t)\n",
    "transition={}\n",
    "for i in range(n):\n",
    "    #state (0,1)\n",
    "    for j in range(n):\n",
    "        #state(0,1)\n",
    "        transition[i,j]=float(input(\"enter the transition probability for sequence i to j:\"))\n",
    "print(transition)"
   ]
  },
  {
   "cell_type": "code",
   "execution_count": 9,
   "id": "9b26a320",
   "metadata": {},
   "outputs": [
    {
     "data": {
      "text/plain": [
       "[1.0, 0.0]"
      ]
     },
     "execution_count": 9,
     "metadata": {},
     "output_type": "execute_result"
    }
   ],
   "source": [
    "alpha=[[],]\n",
    "beta=[[]]\n",
    "for i in range(n):\n",
    "    alpha[0].extend([prob[i]])\n",
    "    beta[0].extend([1])\n",
    "    \n",
    "alpha[0]#initial probbailities\n"
   ]
  },
  {
   "cell_type": "code",
   "execution_count": 10,
   "id": "552459ab",
   "metadata": {},
   "outputs": [],
   "source": [
    "gamma=[]"
   ]
  },
  {
   "cell_type": "code",
   "execution_count": 11,
   "id": "a1fe9956",
   "metadata": {},
   "outputs": [],
   "source": [
    "\n",
    "def trellis_forward(n,out,transition,emit,alpha):\n",
    "    alp=[]\n",
    "    lists=[]\n",
    "    for i in range(n):#src state \n",
    "        for j in range(n):#dest state \n",
    "            value=alpha[j]*emit[j,out]*transition[j,i]\n",
    "            #print(j,\"\\t\\t\",i,\"\\t\\t\",alpha[j],\"\\t\\t\",emit[i,out],\"\\t\\t\",transition[j,i])\n",
    "            #print(value)\n",
    "            lists.append(value)\n",
    "        else:\n",
    "            if len(lists)==2:\n",
    "                alp.append(lists[0]+lists[1])\n",
    "                #print(\"\\t\\t\",lists[0],\"\\t\\t\",lists[1])\n",
    "                lists=[]\n",
    "            elif len(lists)==3:\n",
    "                alp.append(lists[0]+lists[1]+lists[2])\n",
    "                #print(\"\\t\\t\",lists[0],\"\\t\\t\",lists[1])\n",
    "                lists=[]\n",
    "    return alp"
   ]
  },
  {
   "cell_type": "code",
   "execution_count": 12,
   "id": "de13b9a1",
   "metadata": {},
   "outputs": [],
   "source": [
    "def trellis_backward(n,out,transition,emit,beta):\n",
    "    lists=[]\n",
    "    beta1=[]\n",
    "    for i in range(n):#src state \n",
    "        for j in range(n):#dest state \n",
    "            value=beta[j]*emit[i,out]*transition[i,j]\n",
    "            #print(i,\"\\t\\t\",j,\"\\t\\t\",beta[j],\"\\t\\t\",emit[i,out],\"\\t\\t\",transition[i,j])\n",
    "            #print(value)\n",
    "            lists.append(value)\n",
    "        else:\n",
    "            if len(lists)==2:\n",
    "                beta1.append(lists[0]+lists[1])\n",
    "                lists=[]\n",
    "            elif len(lists)==3:\n",
    "                beta1.append(lists[0]+lists[1]+lists[2])\n",
    "                lists=[]\n",
    "    return beta1"
   ]
  },
  {
   "cell_type": "code",
   "execution_count": 13,
   "id": "450f5706",
   "metadata": {},
   "outputs": [
    {
     "name": "stdout",
     "output_type": "stream",
     "text": [
      "[[1.0, 0.0], [0.21, 0.09], [0.0462, 0.0378], [0.021293999999999997, 0.010206]]\n"
     ]
    }
   ],
   "source": [
    "c=0\n",
    "for i in out:\n",
    "    new=trellis_forward(n,i,transition,emit,alpha[c])\n",
    "    alpha.append(new)\n",
    "    c+=1\n",
    "print(alpha)"
   ]
  },
  {
   "cell_type": "code",
   "execution_count": 14,
   "id": "f70431fe",
   "metadata": {},
   "outputs": [
    {
     "name": "stdout",
     "output_type": "stream",
     "text": [
      "['cola', 'ice-t', 'lem']\n"
     ]
    }
   ],
   "source": [
    "#reversing output sequence to do backward tracking easily\n",
    "def rev(lis):\n",
    "    new_lst=lis[::-1]\n",
    "    return new_lst\n",
    "out=rev(out)\n",
    "print(out)"
   ]
  },
  {
   "cell_type": "code",
   "execution_count": 15,
   "id": "bdf59fab",
   "metadata": {},
   "outputs": [
    {
     "name": "stdout",
     "output_type": "stream",
     "text": [
      "\n",
      " beta: [[1, 1], [0.6, 0.1], [0.045, 0.245], [0.0315, 0.029]]\n"
     ]
    }
   ],
   "source": [
    "c=0\n",
    "for i in out:\n",
    "    new=trellis_backward(n,i,transition,emit,beta[c])\n",
    "    beta.append(new)\n",
    "    c+=1\n",
    "print(\"\\n beta:\",beta)"
   ]
  },
  {
   "cell_type": "code",
   "execution_count": 16,
   "id": "5e1a5908",
   "metadata": {},
   "outputs": [
    {
     "name": "stdout",
     "output_type": "stream",
     "text": [
      "\n",
      " 0.0315 \n",
      " 0.0315\n"
     ]
    }
   ],
   "source": [
    "a=alpha[-1]\n",
    "prob_forward_seq=0\n",
    "prob_backward_seq=0\n",
    "for i in a:\n",
    "    prob_forward_seq+=i\n",
    "b=beta[-1]\n",
    "c=alpha[0]\n",
    "for i in range(len(b)):\n",
    "    prob_backward_seq+=(b[i]*c[i])\n",
    "print(\"\\n\",prob_forward_seq,\"\\n\",prob_backward_seq)"
   ]
  },
  {
   "cell_type": "code",
   "execution_count": 17,
   "id": "bf821b66",
   "metadata": {},
   "outputs": [],
   "source": [
    "def best_seq(n,alpha,beta):\n",
    "    if n==2:\n",
    "        num1=alpha[0]*beta[0]#respective alpha and beta multiplication\n",
    "        num2=alpha[1]*beta[1]\n",
    "        total=num1+num2\n",
    "        gamma1=num1/total\n",
    "        gamma2=num2/total\n",
    "        return [gamma1,gamma2]\n",
    "    elif n==3:\n",
    "        num1=alpha[0]*beta[0]#respective alpha and beta multiplication\n",
    "        num2=alpha[1]*beta[1]\n",
    "        num3=alpha[2]*beta[2]\n",
    "        total=num1+num2+num3\n",
    "        gamma1=num1/total\n",
    "        gamma2=num2/total\n",
    "        gamma3=num3/total\n",
    "        return [gamma1,gamma2,gamma3]"
   ]
  },
  {
   "cell_type": "code",
   "execution_count": 18,
   "id": "533ac51f",
   "metadata": {},
   "outputs": [
    {
     "name": "stdout",
     "output_type": "stream",
     "text": [
      "Gamma values:\n",
      " [[1.0, 0.0], [0.3, 0.7], [0.8799999999999999, 0.12000000000000001], [0.6759999999999999, 0.324]] \n",
      " 4\n",
      "\n",
      "state0: [1.0, 0, 0.8799999999999999, 0.6759999999999999] \n",
      "state1: [0, 0.3, 0, 0] \n",
      "state2: []\n"
     ]
    }
   ],
   "source": [
    "counter1=0\n",
    "counter2=len(out)#n+1\n",
    "#appending each gamma value to appropriate state list\n",
    "state0=[] \n",
    "state1=[]\n",
    "state2=[]\n",
    "while(counter2!=-1):\n",
    "        lists=[]\n",
    "        lists=best_seq(n,alpha[counter1],beta[counter2])\n",
    "        gamma.append(lists)\n",
    "        #based on the number of states\n",
    "        #comparing gamma values and fixing the state \n",
    "        if n==2:\n",
    "            if lists[0]>lists[1]:\n",
    "                state0.append(lists[0])\n",
    "                state1.append(0)\n",
    "            elif lists[0]<lists[1]:\n",
    "                state1.append(lists[0])\n",
    "                state0.append(0)\n",
    "            elif lists[0]==lists[1]:\n",
    "                state0.append(lists[0])\n",
    "                state1.append(0)\n",
    "        elif n==3:\n",
    "            if lists[0]>lists[1] and lists[0]>lists[2]:\n",
    "                state0.append(lists[0])\n",
    "                state1.append(0)\n",
    "                state2.append(0)\n",
    "            elif lists[0]<lists[1] and lists[2]<lists[1]:\n",
    "                state1.append(lists[0])\n",
    "                state0.append(0)\n",
    "                state2.append(0)\n",
    "            elif lists[0]<lists[2] and lists[1]<lists[2]:\n",
    "                state2.append(lists[0])\n",
    "                state0.append(0)\n",
    "                state1.append(0)\n",
    "            elif lists[0]==lists[1] and lists[1]==lists[2]:\n",
    "                state0.append(lists[0])\n",
    "                state1.append(0)\n",
    "                state2.append(0)\n",
    "        counter1+=1\n",
    "        counter2-=1\n",
    "print(\"Gamma values:\\n\",gamma,\"\\n\",len(gamma))\n",
    "print(\"\\nstate0:\",state0,\"\\nstate1:\",state1,\"\\nstate2:\",state2)"
   ]
  },
  {
   "cell_type": "code",
   "execution_count": 20,
   "id": "80794b69",
   "metadata": {},
   "outputs": [
    {
     "name": "stdout",
     "output_type": "stream",
     "text": [
      "[0, 1, 0, 0]\n",
      "\n",
      " ['cp', 'ip', 'cp', 'cp']\n"
     ]
    }
   ],
   "source": [
    "j=0\n",
    "n1=n\n",
    "state=[]\n",
    "while(j<len(gamma)):\n",
    "    if n1==2:\n",
    "        if state0[j]>state1[j]:#compare the values and attach the states to state list\n",
    "            state.append(0)\n",
    "        else:\n",
    "            state.append(1)\n",
    "        j+=1\n",
    "    elif n1==3:\n",
    "        if state0[j]>state1[j] and state0[j]>state2[j]:\n",
    "            state.append(0)\n",
    "        elif state1[j]>state0[j] and state1[j]>state2[j]:\n",
    "            state.append(1)\n",
    "        elif state2[j]>state0[j] and state2[j]>state1[j]:\n",
    "            state.append(2)\n",
    "        j+=1\n",
    "print(state)\n",
    "state_display=[]\n",
    "for k in state:\n",
    "    if k in state_name.keys():\n",
    "        state_display.append(state_name[k])\n",
    "print(\"\\n\",state_display)"
   ]
  },
  {
   "cell_type": "code",
   "execution_count": null,
   "id": "eaad4ce0",
   "metadata": {},
   "outputs": [],
   "source": []
  }
 ],
 "metadata": {
  "kernelspec": {
   "display_name": "Python 3",
   "language": "python",
   "name": "python3"
  },
  "language_info": {
   "codemirror_mode": {
    "name": "ipython",
    "version": 3
   },
   "file_extension": ".py",
   "mimetype": "text/x-python",
   "name": "python",
   "nbconvert_exporter": "python",
   "pygments_lexer": "ipython3",
   "version": "3.8.8"
  }
 },
 "nbformat": 4,
 "nbformat_minor": 5
}
